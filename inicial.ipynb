version https://git-lfs.github.com/spec/v1
oid sha256:fc0be91b834e2fa093368c849ffb3944600ed0b596a68954d0dd923c7ccaa051
size 59640421
