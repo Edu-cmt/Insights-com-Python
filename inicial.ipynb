{
 "cells": [
  {
   "cell_type": "markdown",
   "metadata": {},
   "source": [
    "# Python Insights - Analisando Dados com Python\n",
    "\n",
    "### Case - Cancelamento de Clientes\n",
    "\n",
    "Você foi contratado por uma empresa com mais de 800 mil clientes para um projeto de Dados. Recentemente a empresa percebeu que da sua base total de clientes, a maioria são clientes inativos, ou seja, que já cancelaram o serviço.\n",
    "\n",
    "Precisando melhorar seus resultados ela quer conseguir entender os principais motivos desses cancelamentos e quais as ações mais eficientes para reduzir esse número.\n",
    "\n",
    "Base de dados e arquivos: https://drive.google.com/drive/folders/1uDesZePdkhiraJmiyeZ-w5tfc8XsNYFZ?usp=drive_link"
   ]
  },
  {
   "cell_type": "code",
   "execution_count": null,
   "metadata": {},
   "outputs": [],
   "source": [
    "#!pip install pandas openpyxl numpy nbformat plotly ipykernel\n",
    "# pandas -> trabalha com base de dados\n",
    "# plotly -> Criar graficos dinâmicos\n",
    "\n",
    "# Passo a passo\n",
    "# Passo 1: Importar a base de dados\n",
    "import pandas\n",
    "\n",
    "tabela = pandas.read_csv(\"cancelamentos.csv\")"
   ]
  },
  {
   "cell_type": "code",
   "execution_count": null,
   "metadata": {},
   "outputs": [],
   "source": [
    "# Passo 2: Visualizar a base de dados (Entender as informações e encontrar problemas)\n",
    "# Informações inúteis\n",
    "tabela = tabela.drop(columns=\"CustomerID\") # Retirar coluna de ID do cliente \n",
    "display(tabela)"
   ]
  },
  {
   "cell_type": "code",
   "execution_count": null,
   "metadata": {},
   "outputs": [],
   "source": [
    "# Passo 3: Resolver os problemas da base de dados\n",
    "# Informações no formato errado\n",
    "display(tabela.info())\n",
    "# Informações vazias\n",
    "tabela = tabela.dropna()\n",
    "display(tabela.info())"
   ]
  },
  {
   "cell_type": "code",
   "execution_count": null,
   "metadata": {},
   "outputs": [],
   "source": [
    "# Passo 4: Análise Inicial(Quantos clientes cancelaram, qual o % de clientes)\n",
    "# Contar na coluna de cancelamento quantos cancelaram \n",
    "display(tabela[\"cancelou\"].value_counts())\n",
    "# Em percentual\n",
    "display(tabela[\"cancelou\"].value_counts(normalize=True).map(\"{:.1%}\".format))\n",
    "\n"
   ]
  },
  {
   "cell_type": "code",
   "execution_count": null,
   "metadata": {},
   "outputs": [],
   "source": [
    "# Passo 5: Analisar a causa dos cancelamentos dos clientes\n",
    "# Quero entender como cada coluna da base de dados impacta no cancelamento do cliente\n",
    "# Criando graficos\n",
    "import plotly.express as px\n",
    "for coluna in tabela.columns:\n",
    "    # Cria o grafico\n",
    "    grafico = px.histogram(tabela, x=coluna, color=\"cancelou\", text_auto=True)\n",
    "    # Exiba o grafico \n",
    "    grafico.show()"
   ]
  },
  {
   "cell_type": "code",
   "execution_count": null,
   "metadata": {},
   "outputs": [],
   "source": [
    "\"\"\"\n",
    "*Clientes que ligaram mais de 4 vezes para o callcenter, cancelam\n",
    "    -Vamos criar uma alerta para quando o cliente estiver ligando pela 3º vez.\n",
    "\n",
    "*Todos os clientes mensais cancelaram\n",
    "    -Vamos incentivar os clientes mensais a migrarem para outros contratos\n",
    "\n",
    "*Todos os clientes com mais de 20 dias de atraso, cancelaram\n",
    "    -Ligar um alerta para o time de cobrança quando o cliente bater 10 dias de atraso\n",
    "\n",
    "    # Uma vez resolvido esses problemas, observar como a taxa de cancelamento se comporta.\n",
    "\"\"\""
   ]
  },
  {
   "cell_type": "code",
   "execution_count": null,
   "metadata": {},
   "outputs": [],
   "source": [
    "#Resolvendo o problema do callcenter - O que acontece?\n",
    "condicao = tabela[\"ligacoes_callcenter\"] <=4\n",
    "tabela = tabela[condicao]\n",
    "display(tabela[\"cancelou\"].value_counts(normalize=True).map(\"{:.1%}\".format))"
   ]
  },
  {
   "cell_type": "code",
   "execution_count": null,
   "metadata": {},
   "outputs": [],
   "source": [
    "#Resolvendo o problema de clientes mensais que cancelaram - O que acontece?\n",
    "condicao = tabela[\"duracao_contrato\"] != \"Monthly\"\n",
    "tabela = tabela[condicao]\n",
    "display(tabela[\"cancelou\"].value_counts(normalize=True).map(\"{:.1%}\".format))\n"
   ]
  },
  {
   "cell_type": "code",
   "execution_count": null,
   "metadata": {},
   "outputs": [],
   "source": [
    "#Resolvendo o problema de clientes com mais de 20 dias de atraso\n",
    "condicao = tabela[\"dias_atraso\"] < 20\n",
    "tabela = tabela[condicao]\n",
    "display(tabela[\"cancelou\"].value_counts(normalize=True).map(\"{:.1%}\".format))"
   ]
  }
 ],
 "metadata": {
  "kernelspec": {
   "display_name": "base",
   "language": "python",
   "name": "python3"
  },
  "language_info": {
   "codemirror_mode": {
    "name": "ipython",
    "version": 3
   },
   "file_extension": ".py",
   "mimetype": "text/x-python",
   "name": "python",
   "nbconvert_exporter": "python",
   "pygments_lexer": "ipython3",
   "version": "3.13.5"
  },
  "orig_nbformat": 4
 },
 "nbformat": 4,
 "nbformat_minor": 2
}
